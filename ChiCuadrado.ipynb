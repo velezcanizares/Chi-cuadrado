{
  "nbformat": 4,
  "nbformat_minor": 0,
  "metadata": {
    "colab": {
      "provenance": [],
      "authorship_tag": "ABX9TyNlhqPUfkQWvtKjY5O2qb3Q",
      "include_colab_link": true
    },
    "kernelspec": {
      "name": "python3",
      "display_name": "Python 3"
    },
    "language_info": {
      "name": "python"
    }
  },
  "cells": [
    {
      "cell_type": "markdown",
      "metadata": {
        "id": "view-in-github",
        "colab_type": "text"
      },
      "source": [
        "<a href=\"https://colab.research.google.com/github/velezcanizares/Chi-cuadrado/blob/main/ChiCuadrado.ipynb\" target=\"_parent\"><img src=\"https://colab.research.google.com/assets/colab-badge.svg\" alt=\"Open In Colab\"/></a>"
      ]
    },
    {
      "cell_type": "markdown",
      "source": [
        "#Test Chi Cuadrado\n",
        "#### Introducción\n",
        "El Test de Chi cuadrado nos permite un criterio sólido para encontrar relaciones entre variables cualitativas, utilizando las tablas de contingencia. El fundamento de este test es comparar las sumas de diferencias al cuadrado entre lo que estamos observando, es decir nuestros datos reales, y aquello que cabría esperar en una situación en donde no existe ninguna relación entre variables. Esto permite cuantificar la magnitud de todas estas distancias, compararlas con una distribución (Chi cuadrado) y decidir si podemos afirmar si estas variables, estan relacionadas significativamente. Una de las debilidades de este test, es que no permite cuantificar cada una de las relaciones entre categorias, pero permite afirmaciones globales como por ejemplo \"Fumar esta relacionado significativamente con el cáncer de pulmón\". Por otra parte, una exploración visual de las tablas, nos indica en que dirección esta dada esta relación. Los datos a analizar son de unas aerolineas estadounidenses.\n",
        "\n",
        "![chi-cuadrada.webp](data:image/webp;base64,UklGRt4zAABXRUJQVlA4INIzAADw5gCdASrYAiICPlEokEajoiGhIZcIsHAKCWlu/HyZ5etQzP0z/jn4Sft36l/zP+e/jd/af+n61/iXx79N/Xn+/f3X/x/6H4ef4Dwz9Hf2P0K/jP0y+l/2/9kv7X+0Pv5/iv7X+tv5Veyfyg/v/yZ/ID7Avxf+K/1X+p/r//cP2h447VP9z/yPUC9Qfkn9o/vf7V/2j94fYH/n/7T+0/uT+b/1X/G/bh9gH8S/l/+K/t37f/37///T/+08IT7Z/lf1z+AH+c/13/Tf33/O/sz9KH7r/wP8R/n//V/lv//7xPzL+3f8X/Ff5n/xf5P///+P9Bv5H/Rv9X/cP81/5P8f////P9zH/49tn7Yf/b3S/15/9YZMy1jhR6VvjyvQ0kcKPSt8eV6GkjhR6VvjyvQ0kcKPSt8eV6GkjhR6Vvjw5EGoPKWptokTlcyiR7CNH7EjvVXwBkWzcqwNDSRwo9K3x5XoaSOFHpW+PD8mjwofrZVYbE9Aig48VzQych9ftcAFfdckb4peXYpWv8w8/Ez3a5i++dEhNJHCj0rfHlehpI4Uelb48phFWW47WSFy0aSz8DR5IZALS1i0TSYOjcta1MboihIco3F8Pv+pBDtI4Uelb48r0NJHCj0rfHlehqOmqiWscKPSt8eV6GkjhR6VvjyvQ0kcKPSt8eV6GkjhR6VvjyvQ0kcKPSt8eV6D+LtPnB/ncC4/0rfHlehpI4Uelb48pkCbhCDsihd/+R38AOcfIaS2kBWuDwcWpMicEV9Y6WjK74rLcY3S2jqzFJFbSMylguu6wafNVqb7UMsQXH+lb48r0NJHCj0rfHldHT9CCI/QeWtPz046A8mXvlSw5vBEtY4Uelb48r0NJHCj0rfLeAeYN1iZLbRK3x5XoaSOFHpW+PK9DSRwo9K3X4AiTWcKPSt8eV6GkjhR6VvjyvQ0kcKPSt8eV6GkjhR6VvjyvQ0kcKPSt8eV6GkjhR6VvjyvQ0kcKPSt8eV6GkjhR6VvjyvQ0kcKPSt8eV6GkeESCljjZ9ygWZzpIEyDNOZVK11n6x7HaMKe6hfUQ8dwdGLpijG+FxRiRsYvpqFmbopuX+AIqljf9F6GkjhR6VvjyvQ0kcKH6qfmONQiznjVRFI1vRwPAFulXvSI0ga8ktE0EjL54oNGe8Y65IM7AijVhubgYfAd8rtPhN+MCGyrBddGFxbIBhUHb0VWySn6QsFSQLQ+eZXSRwo9K3x5XoaSOFHnxdFoddKkg6hMGgM3SVtxuMhj6CLK8y/RnIKdh2uMbx3hwyWPxKVaSqODnJ3NubjnU9ldx06ukzk+G6OO+WRh9crselb48r0NJHCj0rdaqP376xCC1ywSwGjt2lsW1oAHIzSxInGBVZE2bTYKO3LdWc78svzmlAXyywtDFNX00XrYIve9bXLedO5wea3DpVQo5OClVvewJ2NOVriJ/aF8zfIXqU50vIQjS92epB+5IR3kA0h0P4Lj/St8eV6GkjhR1e7jJFvoXcXM7jIf6CjVUZ/WR9kWx5N76AcUOcgRLWOFHpW+PK9DSRwo9Kyq2wucaHoNDMjfslfk83wLdABuhdLgtmT4Ng2LvZ2DoxjIR93vjy3AnJ2/UvcVlLsdqiyuIkkfrf2hU3KqgDKw+MzGkxvK9DSRwo9K3x5XoaSOEYL2NryCBD5e/8r/fJwEkebhQ+sq+HSt8eV6GkjhR6Vvjw/6aepWdSFxHTUIKC11vzowUTNm4WWdojRXu4IEadSb3FTKVbYEBJbxuRHT6JpptKv4QScSOFsbrF1DIipAxfhawlVCYee0Kq+QDjcQze0KRtahUbMCVHsuCl/gVAnLVtDrjbX2kC/W+hlATgRY9wagXFZ8ewQI9dZw4APW4T2mWtMCATizrLyno283lehpI4Uelb48pf0o/Y+rMXO3PRKrTSRZXV1dXu9gxh1jjOaSOFHpW+PK9DSRwjWNXzKXc+2za4jJDCGCspyD5yR0mBTKA1hJ45BbmnJsYq4yhSv2plNL47w3vkb0QRW1li4TXpoynpkKw6qieQHOhjZ9HdgyEf7QZSFmlSxLPUx1t9FmkrEED5KY3PXKq4fHBhLJEtXsoU5sTTurjsAwi4dStURPjo8PpEsDK6SOFHpW+PK9DSRwjWXwkq+CAcPfZwjJfSt6cN8Nr63DqLc8wXuLBBryPqwAAY3061FeklIWdWZuOaDUuEI0O6RMBEtY4Uelb48r0NJHCj0rfHlehpI4Uelb48r0NJHCj0rfHlehpI4Uelb48r0NJHCj0rfHlehpI4Uelb48r0NJHCj0rfHlehpI4Uelb48r0NJHCj0rfHlehpI4Uelb48r0NJHCj0rfHlehpI4Uelb48r0NJHCj0rfHlehpI4Uelb48r0NJHCj0rfHlehpI4Uelb48r0NJHCj0rfHlehpI4Uelb48r0NJHCj0rfHlehpI4Uelb48r0NJHCj0rfHlehpI4UOAAD+//OJQAAQdg8q3b+o/eosz2JR7ZBQc2yNr++22koaI7p3AckKXsSISkORS/x63uErg++hCHUjyBiT7c4opNWpJ3iQ5v9zgaNhSNTJdYQvivUsvepX5KtbRdG4f6TLV0rFFWPwLeqgXX/85ugvNMFhihDFGV+sXYVJh7ujQvJffDqBi3BwwiSIa5ahBAixt5bVDoLoNqWIn9AK8NzkNVjpTfEpbZPDcdUCrX+zbfA6AEOn3Nyr4Alo8p4OTb97ZpNi2bP6Ctp2P4V8LesqPR1355+5baXtsCPMkqtTAG8Rl4A+ephpR+HyasDiWWS8wYpU0UI4z8baGEdRCNrbMrUglCbln4+WaJnN634EUgk1fajKDllXUOmRcsCpLD1K/0FRksQIBS6ArzUdEzzzeIaDiG8w7kmob+xSwiNlaayCUIWYUJ4EPxXVMCOKObP72kU5spmzl95vzSL8kPC1FoP7M7Ru8tILtCcRZHPkAkwrqq9FjuQK+upyigtlqXpF1z5U2s+uSEga0+16kDs22nG2qmGMtc6kENcgYB+repdtcBDpul19WY5wuMjWwiznpTaclV2cmkivU9YuN7dRO4gw6lPWVWuF6V8FzaVHeE9Wg0glQFB6KuR5ys0dKcs/uJZcRrsGsQTMqvA6VWdF+MfmqEfkVk/wdpMLPmaWI6racToGXJ9ipKbvt/CVA2+08y3qCO9d5SymfoKrhx0oUbLH2we+Trtrah7pysTH51h0sQzxmNkI6G8PsAtimtr0+3emU3lJV1s8/TqLewZqXK8XEr/cB/stBme3tVAANBF2N6k3nkU3yUXu1mO+TZdzYpvY+1S32CeHctWup+j9cz4OCcCLxU9YaFClxwo68/fT7MHdD+3ENDgE6AeNA4EjIHXQ1oaFhC8nl/xh/cKHMD2gU0rPqcqWS39TFhcIAj8t7iEZSB36v6tbWijuMbQ5Fx56hv2YChqi3ebHg4zz9hM3e0C64D3aDX/W5AixKBFjs8QSsqkOR2dTu/ZBu5ksAMTccXz6P76gNbOHB86Evv8nxj0S/f9AlhbtGw7Wwom+5QmJ/KXRafcPk80h1SJ40MXTwKYg5wJQWBhAbgZ//MKQFSmsKqNP9nI/x4it9P3iq0GGGI99aQSC6nLxb4d1pkBd/8MaNqqBpDEjN6jeSxbx6sv8RJ38hAfTUYxHvOsMyXN8F9cM9arCcVibjuhVz+NX6SH54E1H2Peoc2vo+LYHSvlL+zgFQOL+gof+YnvpggtFBBUHqGLT5cv8tkUwwJ+iUW1PVPaV92cZon9gE/6imAyPJDZVJv7xIb3SBIsNPmH4j8HNIQT5y48xhoxg45t8q5eCjdLE5ME0L4A52ci2D6ENOKlLjkZO5LuXcWrFwbQcL82nHm44h0G9wGQcmZk5hC4WwEC6wWKHykjhUJhzT69XSyInlbJNahcx6OxR7gKMh3TqIiyBuxAXB5p7er8j+xiT+rPORFSDzyJ4GZ3GjEKUYtiibBNxc8wuR2P4AAdwkV2Z7myIRFSaskjF512zCpiTu+PWgKKrlirDcOjq+oc3f59G0VRodljZsGVFJ17GnsmCjDsec6MF+xiHPIUUomcrn1mArGBpytlg3ya5DLVLFLrlolPBTOE9g13WUpwI04UIKPKCuGJ+t7wa+2Bz70vln46vqY2AAAAAISBpMP8lQCThrpttSK4+0auX+/74+FTlRg0NnzB5KihtkYoeyO7rvcGL8el4Z7wROe8kmOeLnItUKXAdsRoQrkSDTVriz4OVm5LkUpZYo4SQgL0llmNgvzrhaokmWaxHMYS4cGfQwn6jQ9PQy95vSEjXvjyp3iNU69Z97Rch6lIwp7KqEZWoQFY1XdCNC4wzh3pOK1obtgFIYz6+79bit1WZV02/Tj2iu8PbIPp0B2XwpXLup88NNlLY8aWGTTc5MQdgcRjaIv7OoyplGZ9Rj8fMw09gsUNnOULOzncEw/T+7xc+/qbsL+ioLhkLFZ0w59S5YoJptkcBNFersIybgXMKtSov1cZUuE4TjLKDTJzzu8LWXzvJzXezaD3vueBll2xFlntoFakfAb6QHloDK3F1zc7DLul8RTs31tqfPZwEAReyNIeXzFlgRq1kFFdBaWAqtsTcQ2sAIpTBx2/3x9EseN037XGVXDF4NR+h9D9rVLJcpQv+Op7f+OFMpioZONSi08VpUrfTqu0mkrhCaRcwvvZaSfIgbSCInIpptyV4hOKYATYMg0QRLHpGFZrIES8WKyuNRnxvFk6AVhW/6AUbTv0KS7eBrPOthYq81pTImNn9wSfxxmfFSmkjYfr0w9OkOGZxz3Jn1HSv/ZfgmE6luJUurfPy38P3rdxXsJogJnz7zzRU7YYgIqiyQxrtO1qZudEsavvAoYx9o1CVZzyM1M6iLbKx1fU/YU/Ra4eVq3ozfQUvt7aUg8iuEjVpYbAoFJ4QkcymfP8xgyt+9wX8qhoLoYFaBTvTkZYUoy5QChziEXS8Up/QPsTcOKkrYr6PPgwplFC5hiXqwTAv2M0CJDl6B+3LXKhBISYKEVhSeWeodle3zVVKXV9BGjvir5jJIrkXg8/jSps5IABLuuvv7FIPbAE8nJSJ127lCySfD51/84XdYLOxOLp6s9gcYPWGAC3FMEePgbs7eLKLzb/VRE/KpYZQTeZ+ZyK29joR7PuIUUX3MujiyESI2mJwMy/fLHdTmHdIM7nGqgVq5jU+usK2adJ1y5KmybgCKVDkBPGNk4nTQS523+4K6zdPOYgP4IuJ1dEljPTKNSTxf/gPLqkxfXTP1fQRB/rUQ4yB/ZHl26jhzEEPABgnt83syhkGlD7W+45hqX2hIAYPHjAfCP6vSLnqO6vnZiyfI1w036S4/wScWzUYQmQEXQP7bm6SIYfgkQHXFO+2UIsCiAUjeykYs54nQZyxXY1pFVZToOA/0wVolW3/DAj5uIBtv8/dW0NAliLywblokTxPW5h+lE2GYnUqXZqS4ncR+ulwS9HidKZ1+NHEKftTK/MeDn7Xr4OqaL8blGYYB94IwcpXE0TJ0Tcii55Ow/VQIAJNayx1tD5T/ZIAS6RKFiENTIVnk0u50A2Zjq9aFwWcRi183cenSAkR8MKavniSnajS2Rc/c3y2SWAWvlaqPe4hZtaYchEbzPy02OCg88aw6/j0nqBnE3UAAAAANNfWIzDy/k3QxyqVaeKyswGlgOG0EZEksCGiIfZVYzxYHblppvrYgFH+39/ZnTddTdAic8vB7XTdF6TC0z2tbocgxvlHMCP3CY+gXSXQf+vfIrf3IKHO4aZDF5qD92YDfJaQETra46ht5IveBW5hEePu05ovtaYGGx+N1JqpsMmMLqi6E0179I6qOqSS+xt/Ctn25W05qbhPKsJcJUiI2RaRPZz0xPnUnoHhWNvgAilB0nPAyxHBXMRFmptgvLzY7oZhPdUJ5+uVZh6s52tEcfegpTE3smID8W4i1cZojBFztC8PkdoB24ldYHenajtgfpm9emdGI8u4eYWXyB7iIHH9xbj4JZf7qDjfnxCstI1fh6fU2lnp37MMFV6HU7H/llBGx5lQmfDv3QIw1brpTdenB9m9GabpDUIo4ohwXLysIH92DRtE5cGwHjM9o0tYPY1NLV4WyT3FATlEI118UDpkDRTyC4/Hj3neQOx+EuqqyT51+ui4hJwDnteLHe8bKOEtJ+SzgIlsuVMB2BTQOO5kPmz64Lq+RKIO8rp4NzRYbMllQi7JvFmbAzYNmKNHsF/iEFZ9mUTdn8ca7sKd4AJQaVxZxAj9Lkv9JVjt6QCHerNgeyI/05Y1i4DquM6jyXVSn1FFnKGCWEU8LzXyUy3UfJuVe/kEuIaNn899C106Nra4Z0s2xPVMauQCq690+9z7wtdVo2IvnY7JTYO+4Jz3cZXQbRimLXBO2+Nz+0fFtshLiPiLwGGvxVAxNca7ircOhuOaTKEc1pgJKos2rjNluXV4/BxgmK9DSZ4p2ae2ctIBQbxWJWmVlxZgBZ7t2X0e+8XoSF55QftU/p06WXGz98cNB5BYs56vNNb60JPGloJ5zEDqeC8Zhw1NNGZIK/KjSRgcsacW5eTBkBfMrZBzOJx0WKZoqPHhLUQjgi/MLkTuzJd1xrwvFQGo5i+L6jqOlDtsx3GE1K/ILmhoqzq+ILEkvNlg3RosCAYFCYL1EnnimH9OnSy3/DhG6nqAKZ8am5DNvanXCd+k5we2GmMueB6Zvz8P0mvCSmInZdSnMl/WodzhCEVrB/oDZ1tBXdZUKo/fk/DTIziP0cNcHU+nDDYU0MHkR3GArR68dR8glf5ixLkCKZk1ueJr9+ogA88965haGGRZLAajlDkKhmHdfe9TJmf1JJMRC55HamBA/uDN8QXeIN+eRC13fU+3/fRR6wrwoditqbBDoNDiDaIcYP1uo9gA0ikUT42qPcgv2KMjqHZuXUpKcWyNCb9sxc0H7nMmVqOzF7xXdkwRLYvbtwxTz9RVt6CQaYyvjxc2ZpJV5jblws6YQjbtN6+0SsX4/S616BTPxaFlnUdz+EctHKKNNqMlJ2A3IeDAG9qv9UODiZu5bBCPsVRaf90NHb22gJJByBGQKuRv6o3H5lM1z4Ikg3VK4oluu0ykTLW9o2IrJ3CA2sNU65caesc2Kb5Fl2ufukJCDuFUJiGpoM8t8h2TKxmLqDEOCoJBWGVWfLfvWqdUGOhbl5/AiI1J9A1jIyXSOkMLTC4t+s6QaiBRMszkijYa9RRvTOT0QEnks3r3ZKuBU1wU6PXVka6fN3vI5FQjQSg0D6XA073McC2JdDsaduSvxnj5vL3YUzACXh/SGuiMGvVI12tMF3hxNCM0lBZNlxW1+NuGbEyzkM88+c9IM2VayXKXLL/oBcmW/CbsFA7almmX5BTftEyK55da7FCi7Lph0UczaJiWs5+S4tuAea3kde341+VQ0oLF5ZW5bqWeWpdy1NxEnO/FwfK284T00vw0IA2ietQ3ioKSCfzHIPSOyjQ6w3BJ4hwQ1t0CtH6h3lZd/Pi1gtThYx6CTRm1QdT1VebWD89sHyjLtMeF2eJWDgn+cfhBevLhAtV2Mz/sg8KcrxZU/nzCXNkoJ1Vh8nefAEtoNFwg3GTAJJE0Mxk/z+H8IsvUsLzGsgZ8F70UpsY/5PEC2ztd5Mry1dLE6YEqsB5K56ObGCtVaMx1oGnHK9M3P3MG4uJf2JvnAvKiItHgjYJgEtBkhtQWGTzdYHrWqbkDTTav84/UnQe9TwSG+xlPwQHHH7xEeixpo8TYwV6EdcZeQWZ8DwkjTEVoVt7ouXDBCgTz11U7Sf8hioKM24u1l+pxGu08sSqE/4xn4UbwO6SxoVQDjzK37gAvO7jEsPM0FRE6yoq60c0xC32z7mStqZcIB6mChXCACwmr6WAzJuGWBlxwVC2/JByyYr48D4Lz0ud+zb1Gil0tID3oFQspJLm7NfTioCPBk1+lhVOq9u1GbISXKlJpk0NVAEn1sE7HR4YN5MXxoSL5APHzf37Fn6sTcQGp/W9Uuqmkx/8zHG8zDeOAY/d9pE9qHxkWwfwGEzesvLLneA0W1wqFz7OtHP9/4MfGI82ZcvfTYBIT21tYM4GlpfNLesq1C6mHYMXA5KO5VQhH1xveBCa17Uk10/tx/93N+qOs1G7bSS11fvHn3atgmLv8A3/kNE6E65AVco0UE69zqhVCtM1gVOl2GXwDQkC/2AGFLxvxzOMPFPBHTrIoh8K6669LCxnqylv045w7ncnupmSLaW12z2gxCHKSU2u3ijA1DCHDO4uI6V8epU5pVnYcCP1bsO9F2sLrUKzfbxAvpqbInKbKxUi+CmhdOZiRaojsVJ2CjHlzhHyQcsmK+PA+Lk25HXeRCmwVpSUCIDWhgIMNncoXoxFIsd4AppP1zABTaT9dUWQmjmorQbZicnK7Bh6DU4Ou31m54tvx/z540/eRgve6Zt20N2No4BTxSULvbIBugNvNeEGMk4MlUbfbzmJ+uuGyKYOZMq82pkCknO5o05/oEBXO4V8Emvwg7al9kukfJtUSjf4jkg442YL7eQ8l1CGJNAAY8KApdyO3OhZ/wYcTsJ8PgbfNneQcRYG8kgEtC53P94/j4gZcFLwGvT1yeM1a16sIbEn3Fg8IGcHO3oPP7kl550JuWnNP5C8zQ3VMafmgxKJdK/3FMa1G9IMW+lWNLqS8D85O9DJIZC+d1ZhIucdIeMXIFr6c1una5NexwY1TqaCNH8TrvduvW6c3lmA5mL6WaT/NJEKO/s8CcbbN5CwNpcg+XOEYIAyBm3XDdyTT05pemOs6VkBHrvIhTYK0pQr7gmor0dg9hfJByyY0yTYJCrowQ94DqidhivPowAubWQGUv63Vrq6X2fpcdbAV4U2ecmfDPCkRY2jNDEmbBAqBByia4urpISrfga2SnJbCAPVpX/7YJkoCAlG3o/+NTmJWEG3fZTtS+Hq0s6zZk9C0XojZijwtwvxHylghFzbdASdj5LC8KX7b+oqv4yFxXYuiC9EUbJdTfXYPEn80fN5aReYUfjUiv7sz8iil6SQSo4P4c7ZWN2QnI4dimAwi6+1JN5rfVoo1pCOjD22M6MERfCf/aGKFGbzMKvTsCrimsU/eRMi/bUW9+wC1VYhqmnrnQN6knfklA30qePaD7wYWcOQSo2uc/A9i0KlCgfJ71YHu4vcNpkQo+5vw9QL1Z6j/F8DWOqHv0xESI33JbKViXti976AAWJKMfBf82f5tDcUcrLru7fyGYAILyhpgS9IvJqdu4xW78ThZVJapwNZvYx6gP9ZfkylgSMzZQvMKRqLEUKLbwudNd87K3t2WzkAL7Wo5ydATfuAYWY/B+QUXEv9dBNFFcb/5MlNMfVqpxHA3a7ByHDGdsxPi0UeYlmyffDJ5qmugChvaEJkNf0c9zZe5QGDhZ2KgvjRjmY/9U1QEgvQDX2JubQCuWYB7fSG/owx9kP63rZ8cHJXwfzUOJQ/f1tPs7iRF2r6X1YzYoxxlWZrrfDz9yEHEyXwnDlbP9z8RxBIuvk9hBcJh5yW+AN0fPGROVSBWJ8rsS4ToAleV4dtFrLkBWU/VIxTMk3tY+FLlfduq1Sw/e23SpBDo2vPahZAJpaRPZpXdNQGxDaGY/0J56qxGtNLPXKXNBq4lkSbBhrwkTv9PBELi+jCFrki/mOMYu8rgStupnsyC78KO9kDWDCENHJoyk8palck4RFabUggKRmtg3oUIQ5wlazZHfaGjiaWpzX+pTQfJRurNmi4CwItwRXam2Mym3wh6h+R8BZNho+mpSZFzuciR+p+wHn8/QB72ZvV+YW2vSCuvM4b9xNdw7eOxQLFIyDz9Wl2I7MI1d8Hk58brh1JRIQ3MxvO9GqNtQbjcN34vMtW/2S+Kp8wRuTp9BzisG/fUCiS7ts8tBpsdqbTePlItMjS0qI1QbJmpDHAfyS/VeR05rPsOcUoTVj/X/5fy4GzJHbDEY7RH2xusroZX2afbi1RnC5F4phaurwH+LbrzW4fBSkCYX0UJdDZ8+oDQH9ji1Thi7HEpvyNDdd/6hvSC3Om7z/toG/vtgSjdHFUHyZpeY3sPj6/5WgsyvltwX9QCtVu7KNyDB2RZKiXZHmD3t6ZpfSE7M/OIyjYzlUh7Nw8sYbdlKA4Jzg2Uc8/hMhCKYa33QrXkAI8cIsVULFm+nDA12Ez7wpntfRkhMd97Wn5iV0zse2sVL151I00dUBzZoH2sUiOCYjVpBGATuLhh9mcB/wVe+X9s9kicSF7yoGOTwBY9k2xx59eOjKIh6zpUni7QhmBH9bQr1eldWDHHnnH2KPBVgVmh6A/v2BXkQrWBf8la1xBo1wsOqNOi8Av6hLCN3Y2gZLtsamTJfQEsD5SiKH/nSYa8jJiqxt8tJ7rGKgEt909Pzb61IOM4OSQNTqW/+FFI07y5RNqKCdmnTNdgX25UpfS6ha1cAE9x+si0lsh5jbI3kt/mr/vcZpmeivxwjFBuZGNoFnT0RrbDzBv8FfY7WWfy/iCZy/3feUtwKAuzCSm20mY9rV9MxXxshvLaAoZn+8mnmIisUkTAxJuEpm4IOxTpbx6NPXT5iB3N47Lo4LeYykIY0EFOL+F63MOpVh83AmnSgYi/jqtR287ry/2l+NbwQ+liQSowV1aETCOzIxsW5gxKXipHlp+/UDaq8QNVpLKKWMsRFr3+sEtN61Ihuv462Cx4z+BUPL9ud28VIhjJ0jPtDbfy3VlAuLYk6di6JEmCVu3XoHf+ltAGyxfqGG17VhxkKaeBxgHw4SaEfuo8tADfETEMPWHUkGUFqprqCTm5JN/7DiORCqxA0mPeahYZvI6amtCP+H5zLnqqF4wYbppnwiKUkAg8G7fwswTfqQh0raJ8PFHe77sxEGhMXKS8/FpQV7k+XP6/Ofg8zYkPoMsOtNejONLWccie4tgQYtueOvSTAGcnFi3xktcK+rXpsb1xvPGSr1So/16z66mA+KSbRtJAnfdIyvNKjBk8bdBSar1A6bMZbNigkyo2Q//w2i34mn/9LV7zvEQasKbkAZTN2lGQtYCEcL8qjkwtXUKesNRrwKjETtMs1uLfCRhu6SwCd7RtkA6KyIiETpfd7NmZWX4BUVNFmQSrxDa+3mnaoJ97T4r0vrotNP0IVjiq9Vs1rTBIn5y9y8s5uhXYtkdI2QdcBJuNeUnDwBl4nPmVkQ3D+eDWa1b4jdsMISTouc7S8+6Fh4K+aNzXuPC3GqFnrd5F0zs4JSfNcj7psAAN1Gyhm0O72r3m6H/TqIlsa60/LsestCRKLM3dwsKVN2vf1ehEe5Jx7RPtPKcTdCi3b6ldrvBHLMrETa2p01XAZCXVuUbsXo9ko3AJ2ZX60+a9GJhymJffQrSm0vzoZEZ2jouKJZhzThC1/3fzuXwwyPhS926nWeOV/aeVmy/KEcLvoy1h82SJos5kUpMKfR/vHQYPOw8KrQPweGUdDaCawj5NR4MaOnKLixh7Av7Nwtvq/LClVU1sCVM5NPcuOr10I6aTdq/GzBoHk3iqKb9jhf8y5Bku6Ws4dHbuo+Tm7Md6w/Cv1zbTRcjnGU/XQy6l5TSZvA5i2u4LuHtHLpms96VaOftUKLyUrhjOBhrcartcNDx0xsa7Ks2ZC3xcjZ/kfDj3I8xC4c2pBO+4m+BG90LVx4REHa+eP2BHRoxglkRs8cfHZnpyLTdqJprbknJoMUhWvdwCVqJRuAwpkfArR61jaKJNthTDTkGhVcuT/ColbXRGyS1qKDPRvA49FH2znYDBpLhTj0YgAudEJAS/RmJrZL2NL1wDAGBbec/8L/nEl8KkFQxo5GBwBWIqtvwzmptciVh0Cj41cuvaK/7Ws1D/cKRcUt5nkOPerr1QYCqoaVvW8aFJNQaP039RKhE4q+e3uiA3F8P5gYbv4/Mi+CKW5J5BE/gEQjuS1G9OWe6f7JEu5UFS4CT0F/NQkMPFmP6I6bhePuz9oJwkoqyNAJwk/dA/OcmhwAb4zMzsO7+xWIWlLS3CVfpuEDJjqFPN/nPvrvDd2hdA/mrX6HF2mBDVkjtParJeQihRE/fnkOyovQju3/Lh0e72pHZK5kotV89ZMOnY9XgHt3lC1FLIQPCeiap+xTQfBtVaWsSyggoX/942W0qeajk2szROM88WBcKdiGS7spn+hmQkqOGvMukWIpEhCszruYwKei+soWoPmNpgglMYPRLKT19F0LcY9qegQAB/HqxWW5kArJUXqZDR4vNedLA+H/QlK8hpbINqRUkjG1w2LACQN8J/S2Cf29pYM+YW1JK9/G9nr4zDZqdIc+Wy2fe2VXxDYvkSj3Ja/dwOmjaT/XA/b3vZcAPijdrDt2G1viIQ9t3+LTyHwzkd44W/M+3ET3NWy9RC7q4BL2eRips79m462eJQ0sv/lE3wuFzHXG/JL6LTzj6D8LXNoOruSob4mWihj8DnRxn3qBIE7FHn+Nts9qdpbyqqh0VDmJr/ryzLCwfhhZnSId1UJfPA8dMNqEStIX7wBijoqpB2973rO7PrO9nxPwQqPVosjtFQuyZduDyOz1GbhIruTTQpYeNOxpHd7F3RalWKasD5VTDYcnttUvzB7S8LTEH9WB5QmcHH1t7utgn1Y5TzgcHx/TBJ3mEABdIcf5M3DrV1ReLvNQ6UEJijYYJj8tNHckJM11ZEvezTNFRgxgqFn1zcANvT2H6ZMXjbwJd2SsxAnsY0P4tzK3KsEmSfMw8Z7DzHtMANe+gRkjkMR+s3wJyEtBYVacWlSTBUQBwy6QHiDnjpNf/xG5b4EM+dU9zP4GeEdzTKBNmQ/KkMyld00sjf7tyK+tHhINPzu1+G0+uAE4cvK/Mm+W6g2SR8+uPslLsknYt3KAeUXrr6VFJcts/lp6KAXJCAmpL5VeFGrN2UMiqGRcJ/s4IfUMJux9XUJXpIsqtNxLDoU0sMq5AqMG7lWBKEtqTbhWZ4RO0crjAt1izkW9euibpoXSTx0STXSMReqsIQa9RiGsZ5eT7Ro2Mw7xS+DZkqfB6DuKEXxRaehddd+lNsjI9e82ebeCZBZa/+Ay7yFplmsfQnnY+1Qi5XvbQHrYMEDpTwoMP79qAJ2LDeRRVnE7sd+nl7OfLE4bLsLtbhZIe9adUvMSvzbH3uXIZtKtV477WbCd6xVag9deUg1jjCd6SU/i8Sw4SmP9SQxuh34i4OdoMyCjjKMSEckhzaXwyR6/rh9uyjFFQVk7FcM790kX4y8AbpAoOPhyKQspJ/jokhY/ldO1izCPaBqxPPlZb2UBpSz1t/hjTbKl8dI4iV1RDOEOU8H99z4v7JGAkMkKOgBB5StD3c2ZWDwxf9Li1F3KU/2Ziflz5c5tqYipbyGvi40vUrUyAh8xRW2uNy5RNa6zISU92pWav5qBNtrvMZq+h6rg1CycCmEo7quPrpbKzYgQiDZSBgJo3xAmHhr++Gxt/I2fkmNCtufdVzvgrIfhh6J/6tExoyvSjDTdWJ1h53vbpq8upq9gqhgaHPenCeADzyXn+KTxeOU5je+DNhv1WitgejpfFSJIcWZs9fF9vIfKs0GQLR51Yscm1EK2+iqqVAfCemopY012otSYQySMNcZ1RYA3O7vbZhAgFDhV0X2IRC+XfZ5JKbW8J/9zNKoUYesZvnwEJNwE072qFlNkFscPEr1neUFdEDUQnNO6BKQ/BnndnLpK/8thjE9Nwf3lD8jMFqCLDymIwt58A1my1cOSZaaFKEJRuKnyxbKga77+Q78F68O/DUV7FyYz79vJz6pJudsoMxuQf83XnV9H+OrdUXNKDLyHsJDY+3UpqDZ6XP6roITGB2HjQB2AT3lovaBRN6qBaPjKxwmwW9evw9wmsVbCxFZjpiTCZjQktP4RQWw2ZXuhQpFVv2/8t+9K8BGV7D1iY8v+9TWrB7P7IKVzBYZYGnrb4XaoaAQ4MbHf3UyEmlIITIDeyy4dE4CxWg8nIic02H4psRUZW2CGINsDrzoamfhAunnt+QsD6c5iZAcoPo/GCTVhR+0niBagtJXWXaWfHZFfBM5vLfutDOwBnyVOqY8n5gM83L62WaFmTQNB3AN2f/braJT4U9R/v1a5ri6vZY8AytwflNWCJwAhaJeQYJvutt3jtVq2n2T+udl0xkr9RHpwQC4614w0CJ9VRRZZf4tgtBAJmptWEoUmhyOvoWq/uQ2EyqLsRTZDBXt0DKjL8AARX5ZeGVXvTivm+0HT61VCb0YxlCjhoiPpHxuQfGCvj2NWBlPP3Dc/+38Hx9ZJvc/wt6QwvPaScsep+0chLivUWKQphNo6EqAWDTeZZFpAWZy3fiKkFAlU+yqrMQROvcpnsjTkEJt/Hho7kAZZghd9FUgspeR8pb9t4jWDLu+SQOamzf2edhxcqciPWbyctinGJn+B68RKa1SMr6Zjr21KzklOV1kCfBH33mpgHNYduiwCFINSyDzaNfXVdJHWqowJXorzMHUDQ6pO286k6mBbU+CsOJBDn1+ebTugZBAqVDgFXFiVe9o411lgrE0Yypg0rljXBtil9aKYSgPs8v8zSSaeYRMcV7N0HVuyIgIqOkFg/9Kmxsa59IPTlgKy/6xeIqbRq6ouYTI334PpAakqTHILNcKnMyxNqXMWHkwXnDxBH9yFyyZxaI3BUgoRS1IN3gfcSTN7W+6ckbvcNiLQvPJmpezYBl8+fF/GfwSiGV5PssyiYTQGtV50vW0sJVRTFzGCnj1wLPKAYGF1vu9s2+WMGIVrUBXj6nqRpDWcEq/Wmqyab3BEISjnvMH8omQTi+D7KhNZZztfQkjiGH/hQz+D60JSCbHBF+YXIndmS7sTRIzAJ78HMCEXURYStiz5ZOgcmnxCpGojCCwHFxqMjZR9PDcG7Jn7u9BVu9a1Zp+n9CPDsWJ31iHdSQK46jpQD0noyQ6GMUug0eaYCrkaujuHP352C9v1KkeW/RVE3jgiVax4/rgeSWvZLFYqQN0GkSTnLJSuYvj8iOk+JNertZiPjCi57Vz+eue+7a8XSE92DTqmQ0+kDInP2lCk4yo/GK27YnYk/jApuQTzZnC010r/l+BJesOSNgSbRcFRKsueFTiH1csPqdTh4se5yuUTm6QczaNFLnCTZM43TnfYlN3OMoK4wcYH75/4LJdrHG7si2AvKnJRxRdF0XpNaET6kep7zas7TNJ6yaFh9SmNopuuZPjTyX5ZUKHtQlBoxWWl3UVZDKuTUfeyBPoUiFrXhUkekLSXMKuYu1tU8lYLnmqzxgvBBon5HNK1EcpkpJ8yNBb5Ve+P0EffVeYeveuEwUPWV1j+sl3KqVuR1zmyWPGCSEHPYRqVBkbbtzfEqyR2a/hiJ7WUKXcBPNu5wIlbbVV5OvoQitK7yYxSNerTnuMv1il0w/xwuEq6AfRCLahWf2nllAbSfYZ+WLDLt4cRI0Qnab3yJFrjfD6rhlmBQ+bRlC5EIOfaN5JJ3sO8pZoOFRaAU/fuWGznCgILSlobf6I0XgDgFfRM8+KI0KItLbideqFbpeELuJirIQp00cA9Y6mAx69ZqFFowl+ScpHwp7sL3fHFG0wWZl86kwUOAt1xX2o9AacaGelPtuhALfzgIyNQzaA2QEvYpt/efF8av1MRmI1AgUMaPCqN6QDox+Cr2ny5kVHmnUK+VVW70Ra8ifTWEN5mlAgZMk8WvOsNXKErO+6zRNoy7U0bLuaiPIo0syaUBDKtXVC4VJb7csI6zgpnPmhYVGaXeSMjs7YsEA1XegRZf5VrRUt0nh1C4DKsIqRACf85a4ufFhOfDmDf04DBiH265jsTC+CZ4jaXCBu5iuVjhjXezGN2hpAsWhanatW63ntU4URGVPWzx+GZ+rhkskKDMhShcrRBE4hqU7VZsZZDwoQPYKmg6dJKGPB9jc2b3uQ9Kllkz0I3m8UiiqwQ0zHRpvTGjVhKzimEz8IgDuAPqBZbI1XHqH3/31ENQjPzab6ZZmcOBHaMa8wamxUhoqrCB+TmXCy+ieV2THtNXkMv6XdWJAnqw56JdkUOuZNZgua1M6sIVAQEjYDLL6Pj6q9hmYIM1yhMzxKLrZLI1L7E3v6TJMpsh6OVU68BQKkBrBCXyBJxLEmLgbJaLWYmfn7OrhJSYCASE5AqU+xY6dkXRnHBUWIssGmJlSpij7dgBSV3H0RjKE5uBdqtE9lU3BG9BC9omYtZZuUjzKBgjwjUZR+f5/c8AeAL/Mf1AYQT6bmh6xw2Mn7rCriL8XAN4sQRx6iN+4hd+/4sr52XMjipoWG9h3mSx/wRF2kCprYnaFtqnGqjbMSIBrSAGqDDz963c5Ijj/0ARNUWT9GzR4WAVzGV6U0OKZ/47CKr8hOdHZQQrdkWXb1m3qtotrVyGIpJXw8MPufiYjID/Z9wig7y0kU1DgUmzXI+oMVaekv7PSLwxz0EOpju1JF9bJHV9iIREF7VezCadMTfM99mNn5YFovw4WI8rk7/8929X4jRlf1LCYcxscZ7XTGZB5oxwDhd4yC9IyRF2TxUS0SrJVJUHMuIR+cWW38NIlyutXFKkVF1oEkJVLuOHgY1z0azJ2OgE+zJ5oPuUtdwW80zCsRnqA2+YvxqU0ETGiBafGQiMwf4BHBq0t1oKxPZD3rmtaziTECGPLh5Uej5V2Vv7e9CuHWfH8LXNLsbD29hI5CV6edyRkmIrHGeHIn2B+yIx6X0k0a2At8rpms96VaOftUKLyHxjPHlff3iHCxcSvw+tE65FcBU6+MADTfm3PCNjEHQLrXDQGk5GHTOjMP5kiJxdPNbKeTIj0B5bxVIx45E44RA52XE4mnE+Aklb+hJAgUHitGDuT807O62afgbStNtZxIROhsteGxZyiIrlilurPimHvRyaSFfcSEw0rP3t15hOJrGJhXqNDamUcuUywvF6Ub+HeFNZYjU4TIyMbuUjs7YsEA2Mz2Vp3HH7/kuZ9kIp4Vlrz2xZcC3ORUAQaw1JLbqtig3KNgdHKEaqTq6Z1FS3oOyM6mHp0L/PhPivf1iuBbinOHXCr6FyBZtk6svoT4rKFrnORmHgH0R6jURx3A3va3N65LaL8AlT6P6h+v8KRP+VFiAO+6rmnyhm0GBQeP9WwQvICTwXPliDFGgW3N1m6NL1H5sQUnzD3WNK/coTHoMv/K4xg7kfDYasOU9AeKlhOxU6vToF1Su7Xl/cvvFpUXfMSIeg+NxMSqGnWmFSa8/luzHijgra1jNXDh8wHPouRfkE7Lqn0Z8pH7kq0wXp7a02pAgB62Xd31GENovoBcX/zmw63jekC0lw0wXMefN7ZzYOexn9ICBcn+FqPUO17EYg4T5OccWAf7NOkvU4GS2lcC12aDQ95TcKs1gJntkPabo11w38cO0T7v51pUCxMoHeInlyjPUyVXOzNB++Q/KRv+YVEi0um9ZkDUan0DIwC6ZKkEOdFzYf96VGMfNJFmsIMyVDiQEPQBBcp1zk2bsrFHJ5OxNM4WygKfKKQgL6//Fz9f6NUUrnXmEAbQQdMpQeiuJ+qcLgJ45SBkMXIL5OZUYkfrLMgTftoOhYte0jcgFTgZkyktVvcRNMmNPZLc43EboGkPmAU9/8vUKv4UgGFYHONm6akq5oS96wx1Fov4+UY/6rWCAH51Vh3tqvaBJvTDyq+gLff0MFAg1+rUhVZql7nMAAAAAAAAAAAAAAAAAA=)"
      ],
      "metadata": {
        "id": "3Z1y7cq4WxPB"
      }
    },
    {
      "cell_type": "markdown",
      "source": [
        "#### Paso 1\n",
        "Primero debemos impotar las librerias y cargar datos"
      ],
      "metadata": {
        "id": "sic7k-ZbcI5X"
      }
    },
    {
      "cell_type": "code",
      "source": [
        "import pandas as pd\n",
        "import numpy as np"
      ],
      "metadata": {
        "id": "zUeIQtjPcQ-0"
      },
      "execution_count": 2,
      "outputs": []
    },
    {
      "cell_type": "code",
      "source": [
        "#Cargamos la data\n",
        "df = pd.read_csv(\"/content/base_datos_2008.csv\")\n",
        "df.head()"
      ],
      "metadata": {
        "colab": {
          "base_uri": "https://localhost:8080/",
          "height": 300
        },
        "id": "tio_3OVVgjXV",
        "outputId": "bd7be3b7-e62c-4e1c-b276-00b959e651c3"
      },
      "execution_count": 11,
      "outputs": [
        {
          "output_type": "execute_result",
          "data": {
            "text/plain": [
              "   Year  Month  DayofMonth  DayOfWeek  DepTime  CRSDepTime  ArrTime  \\\n",
              "0  2008    1.0         3.0        4.0   2003.0      1955.0   2211.0   \n",
              "1  2008    1.0         3.0        4.0    754.0       735.0   1002.0   \n",
              "2  2008    1.0         3.0        4.0    628.0       620.0    804.0   \n",
              "3  2008    1.0         3.0        4.0    926.0       930.0   1054.0   \n",
              "4  2008    1.0         3.0        4.0   1829.0      1755.0   1959.0   \n",
              "\n",
              "   CRSArrTime UniqueCarrier  FlightNum  ... TaxiIn  TaxiOut  Cancelled  \\\n",
              "0      2225.0            WN      335.0  ...    4.0      8.0        0.0   \n",
              "1      1000.0            WN     3231.0  ...    5.0     10.0        0.0   \n",
              "2       750.0            WN      448.0  ...    3.0     17.0        0.0   \n",
              "3      1100.0            WN     1746.0  ...    3.0      7.0        0.0   \n",
              "4      1925.0            WN     3920.0  ...    3.0     10.0        0.0   \n",
              "\n",
              "   CancellationCode  Diverted  CarrierDelay WeatherDelay NASDelay  \\\n",
              "0               NaN       0.0           NaN          NaN      NaN   \n",
              "1               NaN       0.0           NaN          NaN      NaN   \n",
              "2               NaN       0.0           NaN          NaN      NaN   \n",
              "3               NaN       0.0           NaN          NaN      NaN   \n",
              "4               NaN       0.0           2.0          0.0      0.0   \n",
              "\n",
              "   SecurityDelay  LateAircraftDelay  \n",
              "0            NaN                NaN  \n",
              "1            NaN                NaN  \n",
              "2            NaN                NaN  \n",
              "3            NaN                NaN  \n",
              "4            0.0               32.0  \n",
              "\n",
              "[5 rows x 29 columns]"
            ],
            "text/html": [
              "\n",
              "  <div id=\"df-f59d6faf-545e-4eaa-af33-bbc82256ba78\">\n",
              "    <div class=\"colab-df-container\">\n",
              "      <div>\n",
              "<style scoped>\n",
              "    .dataframe tbody tr th:only-of-type {\n",
              "        vertical-align: middle;\n",
              "    }\n",
              "\n",
              "    .dataframe tbody tr th {\n",
              "        vertical-align: top;\n",
              "    }\n",
              "\n",
              "    .dataframe thead th {\n",
              "        text-align: right;\n",
              "    }\n",
              "</style>\n",
              "<table border=\"1\" class=\"dataframe\">\n",
              "  <thead>\n",
              "    <tr style=\"text-align: right;\">\n",
              "      <th></th>\n",
              "      <th>Year</th>\n",
              "      <th>Month</th>\n",
              "      <th>DayofMonth</th>\n",
              "      <th>DayOfWeek</th>\n",
              "      <th>DepTime</th>\n",
              "      <th>CRSDepTime</th>\n",
              "      <th>ArrTime</th>\n",
              "      <th>CRSArrTime</th>\n",
              "      <th>UniqueCarrier</th>\n",
              "      <th>FlightNum</th>\n",
              "      <th>...</th>\n",
              "      <th>TaxiIn</th>\n",
              "      <th>TaxiOut</th>\n",
              "      <th>Cancelled</th>\n",
              "      <th>CancellationCode</th>\n",
              "      <th>Diverted</th>\n",
              "      <th>CarrierDelay</th>\n",
              "      <th>WeatherDelay</th>\n",
              "      <th>NASDelay</th>\n",
              "      <th>SecurityDelay</th>\n",
              "      <th>LateAircraftDelay</th>\n",
              "    </tr>\n",
              "  </thead>\n",
              "  <tbody>\n",
              "    <tr>\n",
              "      <th>0</th>\n",
              "      <td>2008</td>\n",
              "      <td>1.0</td>\n",
              "      <td>3.0</td>\n",
              "      <td>4.0</td>\n",
              "      <td>2003.0</td>\n",
              "      <td>1955.0</td>\n",
              "      <td>2211.0</td>\n",
              "      <td>2225.0</td>\n",
              "      <td>WN</td>\n",
              "      <td>335.0</td>\n",
              "      <td>...</td>\n",
              "      <td>4.0</td>\n",
              "      <td>8.0</td>\n",
              "      <td>0.0</td>\n",
              "      <td>NaN</td>\n",
              "      <td>0.0</td>\n",
              "      <td>NaN</td>\n",
              "      <td>NaN</td>\n",
              "      <td>NaN</td>\n",
              "      <td>NaN</td>\n",
              "      <td>NaN</td>\n",
              "    </tr>\n",
              "    <tr>\n",
              "      <th>1</th>\n",
              "      <td>2008</td>\n",
              "      <td>1.0</td>\n",
              "      <td>3.0</td>\n",
              "      <td>4.0</td>\n",
              "      <td>754.0</td>\n",
              "      <td>735.0</td>\n",
              "      <td>1002.0</td>\n",
              "      <td>1000.0</td>\n",
              "      <td>WN</td>\n",
              "      <td>3231.0</td>\n",
              "      <td>...</td>\n",
              "      <td>5.0</td>\n",
              "      <td>10.0</td>\n",
              "      <td>0.0</td>\n",
              "      <td>NaN</td>\n",
              "      <td>0.0</td>\n",
              "      <td>NaN</td>\n",
              "      <td>NaN</td>\n",
              "      <td>NaN</td>\n",
              "      <td>NaN</td>\n",
              "      <td>NaN</td>\n",
              "    </tr>\n",
              "    <tr>\n",
              "      <th>2</th>\n",
              "      <td>2008</td>\n",
              "      <td>1.0</td>\n",
              "      <td>3.0</td>\n",
              "      <td>4.0</td>\n",
              "      <td>628.0</td>\n",
              "      <td>620.0</td>\n",
              "      <td>804.0</td>\n",
              "      <td>750.0</td>\n",
              "      <td>WN</td>\n",
              "      <td>448.0</td>\n",
              "      <td>...</td>\n",
              "      <td>3.0</td>\n",
              "      <td>17.0</td>\n",
              "      <td>0.0</td>\n",
              "      <td>NaN</td>\n",
              "      <td>0.0</td>\n",
              "      <td>NaN</td>\n",
              "      <td>NaN</td>\n",
              "      <td>NaN</td>\n",
              "      <td>NaN</td>\n",
              "      <td>NaN</td>\n",
              "    </tr>\n",
              "    <tr>\n",
              "      <th>3</th>\n",
              "      <td>2008</td>\n",
              "      <td>1.0</td>\n",
              "      <td>3.0</td>\n",
              "      <td>4.0</td>\n",
              "      <td>926.0</td>\n",
              "      <td>930.0</td>\n",
              "      <td>1054.0</td>\n",
              "      <td>1100.0</td>\n",
              "      <td>WN</td>\n",
              "      <td>1746.0</td>\n",
              "      <td>...</td>\n",
              "      <td>3.0</td>\n",
              "      <td>7.0</td>\n",
              "      <td>0.0</td>\n",
              "      <td>NaN</td>\n",
              "      <td>0.0</td>\n",
              "      <td>NaN</td>\n",
              "      <td>NaN</td>\n",
              "      <td>NaN</td>\n",
              "      <td>NaN</td>\n",
              "      <td>NaN</td>\n",
              "    </tr>\n",
              "    <tr>\n",
              "      <th>4</th>\n",
              "      <td>2008</td>\n",
              "      <td>1.0</td>\n",
              "      <td>3.0</td>\n",
              "      <td>4.0</td>\n",
              "      <td>1829.0</td>\n",
              "      <td>1755.0</td>\n",
              "      <td>1959.0</td>\n",
              "      <td>1925.0</td>\n",
              "      <td>WN</td>\n",
              "      <td>3920.0</td>\n",
              "      <td>...</td>\n",
              "      <td>3.0</td>\n",
              "      <td>10.0</td>\n",
              "      <td>0.0</td>\n",
              "      <td>NaN</td>\n",
              "      <td>0.0</td>\n",
              "      <td>2.0</td>\n",
              "      <td>0.0</td>\n",
              "      <td>0.0</td>\n",
              "      <td>0.0</td>\n",
              "      <td>32.0</td>\n",
              "    </tr>\n",
              "  </tbody>\n",
              "</table>\n",
              "<p>5 rows × 29 columns</p>\n",
              "</div>\n",
              "      <button class=\"colab-df-convert\" onclick=\"convertToInteractive('df-f59d6faf-545e-4eaa-af33-bbc82256ba78')\"\n",
              "              title=\"Convert this dataframe to an interactive table.\"\n",
              "              style=\"display:none;\">\n",
              "        \n",
              "  <svg xmlns=\"http://www.w3.org/2000/svg\" height=\"24px\"viewBox=\"0 0 24 24\"\n",
              "       width=\"24px\">\n",
              "    <path d=\"M0 0h24v24H0V0z\" fill=\"none\"/>\n",
              "    <path d=\"M18.56 5.44l.94 2.06.94-2.06 2.06-.94-2.06-.94-.94-2.06-.94 2.06-2.06.94zm-11 1L8.5 8.5l.94-2.06 2.06-.94-2.06-.94L8.5 2.5l-.94 2.06-2.06.94zm10 10l.94 2.06.94-2.06 2.06-.94-2.06-.94-.94-2.06-.94 2.06-2.06.94z\"/><path d=\"M17.41 7.96l-1.37-1.37c-.4-.4-.92-.59-1.43-.59-.52 0-1.04.2-1.43.59L10.3 9.45l-7.72 7.72c-.78.78-.78 2.05 0 2.83L4 21.41c.39.39.9.59 1.41.59.51 0 1.02-.2 1.41-.59l7.78-7.78 2.81-2.81c.8-.78.8-2.07 0-2.86zM5.41 20L4 18.59l7.72-7.72 1.47 1.35L5.41 20z\"/>\n",
              "  </svg>\n",
              "      </button>\n",
              "      \n",
              "  <style>\n",
              "    .colab-df-container {\n",
              "      display:flex;\n",
              "      flex-wrap:wrap;\n",
              "      gap: 12px;\n",
              "    }\n",
              "\n",
              "    .colab-df-convert {\n",
              "      background-color: #E8F0FE;\n",
              "      border: none;\n",
              "      border-radius: 50%;\n",
              "      cursor: pointer;\n",
              "      display: none;\n",
              "      fill: #1967D2;\n",
              "      height: 32px;\n",
              "      padding: 0 0 0 0;\n",
              "      width: 32px;\n",
              "    }\n",
              "\n",
              "    .colab-df-convert:hover {\n",
              "      background-color: #E2EBFA;\n",
              "      box-shadow: 0px 1px 2px rgba(60, 64, 67, 0.3), 0px 1px 3px 1px rgba(60, 64, 67, 0.15);\n",
              "      fill: #174EA6;\n",
              "    }\n",
              "\n",
              "    [theme=dark] .colab-df-convert {\n",
              "      background-color: #3B4455;\n",
              "      fill: #D2E3FC;\n",
              "    }\n",
              "\n",
              "    [theme=dark] .colab-df-convert:hover {\n",
              "      background-color: #434B5C;\n",
              "      box-shadow: 0px 1px 3px 1px rgba(0, 0, 0, 0.15);\n",
              "      filter: drop-shadow(0px 1px 2px rgba(0, 0, 0, 0.3));\n",
              "      fill: #FFFFFF;\n",
              "    }\n",
              "  </style>\n",
              "\n",
              "      <script>\n",
              "        const buttonEl =\n",
              "          document.querySelector('#df-f59d6faf-545e-4eaa-af33-bbc82256ba78 button.colab-df-convert');\n",
              "        buttonEl.style.display =\n",
              "          google.colab.kernel.accessAllowed ? 'block' : 'none';\n",
              "\n",
              "        async function convertToInteractive(key) {\n",
              "          const element = document.querySelector('#df-f59d6faf-545e-4eaa-af33-bbc82256ba78');\n",
              "          const dataTable =\n",
              "            await google.colab.kernel.invokeFunction('convertToInteractive',\n",
              "                                                     [key], {});\n",
              "          if (!dataTable) return;\n",
              "\n",
              "          const docLinkHtml = 'Like what you see? Visit the ' +\n",
              "            '<a target=\"_blank\" href=https://colab.research.google.com/notebooks/data_table.ipynb>data table notebook</a>'\n",
              "            + ' to learn more about interactive tables.';\n",
              "          element.innerHTML = '';\n",
              "          dataTable['output_type'] = 'display_data';\n",
              "          await google.colab.output.renderOutput(dataTable, element);\n",
              "          const docLink = document.createElement('div');\n",
              "          docLink.innerHTML = docLinkHtml;\n",
              "          element.appendChild(docLink);\n",
              "        }\n",
              "      </script>\n",
              "    </div>\n",
              "  </div>\n",
              "  "
            ]
          },
          "metadata": {},
          "execution_count": 11
        }
      ]
    },
    {
      "cell_type": "code",
      "source": [
        "np.random.seed(0) #Fijamos semilla para cuando queramos replicar el código se obtendrá el mismo resultado cuando se aplique funciones aleatorias\n",
        "# Para simplificar la interpretación de resultado creamos un subset de nuestros datos\n",
        "df = df[df[\"Origin\"].isin([\"HOU\",\"ATL\",\"IND\"])]\n",
        "df = df.sample(frac=1) #reordenamos datos\n",
        "df = df[0:10000] #Seleccionamos las 10.000 primeras filas, para que se ejecute todo más rápido"
      ],
      "metadata": {
        "id": "FqvKatTGhkY9"
      },
      "execution_count": 12,
      "outputs": []
    },
    {
      "cell_type": "markdown",
      "source": [
        "#### Paso 2\n",
        "Vamos a generar una nueva variable (BigDelay), que distinga entre dos casos:\n",
        "* Cuando el ArrDelay sea mayor a 30, entonces es un gran retraso. (Valor True)\n",
        "* Cuando sea menor, solo es un retraso. (Valor False)\n",
        "\n",
        "Por otra parte, se crea ua tabla de contingencia y se guarda en \"observados\". Seleccionando dos columnas para estudiar BigDelay y Origin"
      ],
      "metadata": {
        "id": "IugwdzuNjpey"
      }
    },
    {
      "cell_type": "code",
      "source": [
        "df[\"BigDelay\"] = df[\"ArrDelay\"] > 30\n",
        "observados = pd.crosstab(index=df[\"BigDelay\"],columns=df[\"Origin\"], margins=True) #Con margins true le decimos que guarde los margenes de la tabla"
      ],
      "metadata": {
        "id": "4gWgeyW3kSAA"
      },
      "execution_count": 13,
      "outputs": []
    },
    {
      "cell_type": "code",
      "source": [
        "observados"
      ],
      "metadata": {
        "colab": {
          "base_uri": "https://localhost:8080/",
          "height": 175
        },
        "id": "kUNNm_-xmSEf",
        "outputId": "13e0f330-2499-47eb-b328-2d53d5154700"
      },
      "execution_count": 14,
      "outputs": [
        {
          "output_type": "execute_result",
          "data": {
            "text/plain": [
              "Origin     ATL   HOU  IND    All\n",
              "BigDelay                        \n",
              "False     6849   961  682   8492\n",
              "True      1193   181  134   1508\n",
              "All       8042  1142  816  10000"
            ],
            "text/html": [
              "\n",
              "  <div id=\"df-85cb5099-5e55-445b-a5fe-89f47a77698a\">\n",
              "    <div class=\"colab-df-container\">\n",
              "      <div>\n",
              "<style scoped>\n",
              "    .dataframe tbody tr th:only-of-type {\n",
              "        vertical-align: middle;\n",
              "    }\n",
              "\n",
              "    .dataframe tbody tr th {\n",
              "        vertical-align: top;\n",
              "    }\n",
              "\n",
              "    .dataframe thead th {\n",
              "        text-align: right;\n",
              "    }\n",
              "</style>\n",
              "<table border=\"1\" class=\"dataframe\">\n",
              "  <thead>\n",
              "    <tr style=\"text-align: right;\">\n",
              "      <th>Origin</th>\n",
              "      <th>ATL</th>\n",
              "      <th>HOU</th>\n",
              "      <th>IND</th>\n",
              "      <th>All</th>\n",
              "    </tr>\n",
              "    <tr>\n",
              "      <th>BigDelay</th>\n",
              "      <th></th>\n",
              "      <th></th>\n",
              "      <th></th>\n",
              "      <th></th>\n",
              "    </tr>\n",
              "  </thead>\n",
              "  <tbody>\n",
              "    <tr>\n",
              "      <th>False</th>\n",
              "      <td>6849</td>\n",
              "      <td>961</td>\n",
              "      <td>682</td>\n",
              "      <td>8492</td>\n",
              "    </tr>\n",
              "    <tr>\n",
              "      <th>True</th>\n",
              "      <td>1193</td>\n",
              "      <td>181</td>\n",
              "      <td>134</td>\n",
              "      <td>1508</td>\n",
              "    </tr>\n",
              "    <tr>\n",
              "      <th>All</th>\n",
              "      <td>8042</td>\n",
              "      <td>1142</td>\n",
              "      <td>816</td>\n",
              "      <td>10000</td>\n",
              "    </tr>\n",
              "  </tbody>\n",
              "</table>\n",
              "</div>\n",
              "      <button class=\"colab-df-convert\" onclick=\"convertToInteractive('df-85cb5099-5e55-445b-a5fe-89f47a77698a')\"\n",
              "              title=\"Convert this dataframe to an interactive table.\"\n",
              "              style=\"display:none;\">\n",
              "        \n",
              "  <svg xmlns=\"http://www.w3.org/2000/svg\" height=\"24px\"viewBox=\"0 0 24 24\"\n",
              "       width=\"24px\">\n",
              "    <path d=\"M0 0h24v24H0V0z\" fill=\"none\"/>\n",
              "    <path d=\"M18.56 5.44l.94 2.06.94-2.06 2.06-.94-2.06-.94-.94-2.06-.94 2.06-2.06.94zm-11 1L8.5 8.5l.94-2.06 2.06-.94-2.06-.94L8.5 2.5l-.94 2.06-2.06.94zm10 10l.94 2.06.94-2.06 2.06-.94-2.06-.94-.94-2.06-.94 2.06-2.06.94z\"/><path d=\"M17.41 7.96l-1.37-1.37c-.4-.4-.92-.59-1.43-.59-.52 0-1.04.2-1.43.59L10.3 9.45l-7.72 7.72c-.78.78-.78 2.05 0 2.83L4 21.41c.39.39.9.59 1.41.59.51 0 1.02-.2 1.41-.59l7.78-7.78 2.81-2.81c.8-.78.8-2.07 0-2.86zM5.41 20L4 18.59l7.72-7.72 1.47 1.35L5.41 20z\"/>\n",
              "  </svg>\n",
              "      </button>\n",
              "      \n",
              "  <style>\n",
              "    .colab-df-container {\n",
              "      display:flex;\n",
              "      flex-wrap:wrap;\n",
              "      gap: 12px;\n",
              "    }\n",
              "\n",
              "    .colab-df-convert {\n",
              "      background-color: #E8F0FE;\n",
              "      border: none;\n",
              "      border-radius: 50%;\n",
              "      cursor: pointer;\n",
              "      display: none;\n",
              "      fill: #1967D2;\n",
              "      height: 32px;\n",
              "      padding: 0 0 0 0;\n",
              "      width: 32px;\n",
              "    }\n",
              "\n",
              "    .colab-df-convert:hover {\n",
              "      background-color: #E2EBFA;\n",
              "      box-shadow: 0px 1px 2px rgba(60, 64, 67, 0.3), 0px 1px 3px 1px rgba(60, 64, 67, 0.15);\n",
              "      fill: #174EA6;\n",
              "    }\n",
              "\n",
              "    [theme=dark] .colab-df-convert {\n",
              "      background-color: #3B4455;\n",
              "      fill: #D2E3FC;\n",
              "    }\n",
              "\n",
              "    [theme=dark] .colab-df-convert:hover {\n",
              "      background-color: #434B5C;\n",
              "      box-shadow: 0px 1px 3px 1px rgba(0, 0, 0, 0.15);\n",
              "      filter: drop-shadow(0px 1px 2px rgba(0, 0, 0, 0.3));\n",
              "      fill: #FFFFFF;\n",
              "    }\n",
              "  </style>\n",
              "\n",
              "      <script>\n",
              "        const buttonEl =\n",
              "          document.querySelector('#df-85cb5099-5e55-445b-a5fe-89f47a77698a button.colab-df-convert');\n",
              "        buttonEl.style.display =\n",
              "          google.colab.kernel.accessAllowed ? 'block' : 'none';\n",
              "\n",
              "        async function convertToInteractive(key) {\n",
              "          const element = document.querySelector('#df-85cb5099-5e55-445b-a5fe-89f47a77698a');\n",
              "          const dataTable =\n",
              "            await google.colab.kernel.invokeFunction('convertToInteractive',\n",
              "                                                     [key], {});\n",
              "          if (!dataTable) return;\n",
              "\n",
              "          const docLinkHtml = 'Like what you see? Visit the ' +\n",
              "            '<a target=\"_blank\" href=https://colab.research.google.com/notebooks/data_table.ipynb>data table notebook</a>'\n",
              "            + ' to learn more about interactive tables.';\n",
              "          element.innerHTML = '';\n",
              "          dataTable['output_type'] = 'display_data';\n",
              "          await google.colab.output.renderOutput(dataTable, element);\n",
              "          const docLink = document.createElement('div');\n",
              "          docLink.innerHTML = docLinkHtml;\n",
              "          element.appendChild(docLink);\n",
              "        }\n",
              "      </script>\n",
              "    </div>\n",
              "  </div>\n",
              "  "
            ]
          },
          "metadata": {},
          "execution_count": 14
        }
      ]
    },
    {
      "cell_type": "markdown",
      "source": [
        "#### Paso 3 Impotamos el paquete que realizará el test"
      ],
      "metadata": {
        "id": "f2vVOOTanEO5"
      }
    },
    {
      "cell_type": "code",
      "source": [
        "from scipy.stats import chi2_contingency"
      ],
      "metadata": {
        "id": "oQg64SYAnKVz"
      },
      "execution_count": 16,
      "outputs": []
    },
    {
      "cell_type": "markdown",
      "source": [
        "#### Paso 4 crear objeto\n",
        "A partir de la tabla de observados que hemos generado, le pedimos que cree un objeto"
      ],
      "metadata": {
        "id": "wQmKddl9nbCp"
      }
    },
    {
      "cell_type": "code",
      "source": [
        "test = chi2_contingency(observados)"
      ],
      "metadata": {
        "id": "NPOfX8btnpjY"
      },
      "execution_count": 17,
      "outputs": []
    },
    {
      "cell_type": "code",
      "source": [
        "test"
      ],
      "metadata": {
        "colab": {
          "base_uri": "https://localhost:8080/"
        },
        "id": "yTptgnPunxCG",
        "outputId": "0be136ef-111b-4e08-e4bd-01d60bc3c6fe"
      },
      "execution_count": 18,
      "outputs": [
        {
          "output_type": "execute_result",
          "data": {
            "text/plain": [
              "Chi2ContingencyResult(statistic=2.0528626403213672, pvalue=0.9147731515151348, dof=6, expected_freq=array([[ 6829.2664,   969.7864,   692.9472,  8492.    ],\n",
              "       [ 1212.7336,   172.2136,   123.0528,  1508.    ],\n",
              "       [ 8042.    ,  1142.    ,   816.    , 10000.    ]]))"
            ]
          },
          "metadata": {},
          "execution_count": 18
        }
      ]
    },
    {
      "cell_type": "markdown",
      "source": [
        "El test contiene el valor estadistico (suma de diferencias al cuadrado) y el pvalor, es una medida que permite tomar decisiones basados en algún criterio. Por último tenemos la tabla de valores esperados, que vamos a comparar con los valores observados."
      ],
      "metadata": {
        "id": "Ui0jc-kvn6fQ"
      }
    },
    {
      "cell_type": "code",
      "source": [
        "#guardamos los valores esperados en un data frame\n",
        "esperados = pd.DataFrame(test[3])"
      ],
      "metadata": {
        "id": "bZqqst3toUEv"
      },
      "execution_count": 20,
      "outputs": []
    },
    {
      "cell_type": "code",
      "source": [
        "esperados"
      ],
      "metadata": {
        "colab": {
          "base_uri": "https://localhost:8080/",
          "height": 143
        },
        "id": "r_-_8hebox61",
        "outputId": "51e9e28c-4ae8-4a2b-a660-11d1af3735bf"
      },
      "execution_count": 21,
      "outputs": [
        {
          "output_type": "execute_result",
          "data": {
            "text/plain": [
              "           0          1         2        3\n",
              "0  6829.2664   969.7864  692.9472   8492.0\n",
              "1  1212.7336   172.2136  123.0528   1508.0\n",
              "2  8042.0000  1142.0000  816.0000  10000.0"
            ],
            "text/html": [
              "\n",
              "  <div id=\"df-83c4b652-d4a9-4610-b793-c5b6f875990a\">\n",
              "    <div class=\"colab-df-container\">\n",
              "      <div>\n",
              "<style scoped>\n",
              "    .dataframe tbody tr th:only-of-type {\n",
              "        vertical-align: middle;\n",
              "    }\n",
              "\n",
              "    .dataframe tbody tr th {\n",
              "        vertical-align: top;\n",
              "    }\n",
              "\n",
              "    .dataframe thead th {\n",
              "        text-align: right;\n",
              "    }\n",
              "</style>\n",
              "<table border=\"1\" class=\"dataframe\">\n",
              "  <thead>\n",
              "    <tr style=\"text-align: right;\">\n",
              "      <th></th>\n",
              "      <th>0</th>\n",
              "      <th>1</th>\n",
              "      <th>2</th>\n",
              "      <th>3</th>\n",
              "    </tr>\n",
              "  </thead>\n",
              "  <tbody>\n",
              "    <tr>\n",
              "      <th>0</th>\n",
              "      <td>6829.2664</td>\n",
              "      <td>969.7864</td>\n",
              "      <td>692.9472</td>\n",
              "      <td>8492.0</td>\n",
              "    </tr>\n",
              "    <tr>\n",
              "      <th>1</th>\n",
              "      <td>1212.7336</td>\n",
              "      <td>172.2136</td>\n",
              "      <td>123.0528</td>\n",
              "      <td>1508.0</td>\n",
              "    </tr>\n",
              "    <tr>\n",
              "      <th>2</th>\n",
              "      <td>8042.0000</td>\n",
              "      <td>1142.0000</td>\n",
              "      <td>816.0000</td>\n",
              "      <td>10000.0</td>\n",
              "    </tr>\n",
              "  </tbody>\n",
              "</table>\n",
              "</div>\n",
              "      <button class=\"colab-df-convert\" onclick=\"convertToInteractive('df-83c4b652-d4a9-4610-b793-c5b6f875990a')\"\n",
              "              title=\"Convert this dataframe to an interactive table.\"\n",
              "              style=\"display:none;\">\n",
              "        \n",
              "  <svg xmlns=\"http://www.w3.org/2000/svg\" height=\"24px\"viewBox=\"0 0 24 24\"\n",
              "       width=\"24px\">\n",
              "    <path d=\"M0 0h24v24H0V0z\" fill=\"none\"/>\n",
              "    <path d=\"M18.56 5.44l.94 2.06.94-2.06 2.06-.94-2.06-.94-.94-2.06-.94 2.06-2.06.94zm-11 1L8.5 8.5l.94-2.06 2.06-.94-2.06-.94L8.5 2.5l-.94 2.06-2.06.94zm10 10l.94 2.06.94-2.06 2.06-.94-2.06-.94-.94-2.06-.94 2.06-2.06.94z\"/><path d=\"M17.41 7.96l-1.37-1.37c-.4-.4-.92-.59-1.43-.59-.52 0-1.04.2-1.43.59L10.3 9.45l-7.72 7.72c-.78.78-.78 2.05 0 2.83L4 21.41c.39.39.9.59 1.41.59.51 0 1.02-.2 1.41-.59l7.78-7.78 2.81-2.81c.8-.78.8-2.07 0-2.86zM5.41 20L4 18.59l7.72-7.72 1.47 1.35L5.41 20z\"/>\n",
              "  </svg>\n",
              "      </button>\n",
              "      \n",
              "  <style>\n",
              "    .colab-df-container {\n",
              "      display:flex;\n",
              "      flex-wrap:wrap;\n",
              "      gap: 12px;\n",
              "    }\n",
              "\n",
              "    .colab-df-convert {\n",
              "      background-color: #E8F0FE;\n",
              "      border: none;\n",
              "      border-radius: 50%;\n",
              "      cursor: pointer;\n",
              "      display: none;\n",
              "      fill: #1967D2;\n",
              "      height: 32px;\n",
              "      padding: 0 0 0 0;\n",
              "      width: 32px;\n",
              "    }\n",
              "\n",
              "    .colab-df-convert:hover {\n",
              "      background-color: #E2EBFA;\n",
              "      box-shadow: 0px 1px 2px rgba(60, 64, 67, 0.3), 0px 1px 3px 1px rgba(60, 64, 67, 0.15);\n",
              "      fill: #174EA6;\n",
              "    }\n",
              "\n",
              "    [theme=dark] .colab-df-convert {\n",
              "      background-color: #3B4455;\n",
              "      fill: #D2E3FC;\n",
              "    }\n",
              "\n",
              "    [theme=dark] .colab-df-convert:hover {\n",
              "      background-color: #434B5C;\n",
              "      box-shadow: 0px 1px 3px 1px rgba(0, 0, 0, 0.15);\n",
              "      filter: drop-shadow(0px 1px 2px rgba(0, 0, 0, 0.3));\n",
              "      fill: #FFFFFF;\n",
              "    }\n",
              "  </style>\n",
              "\n",
              "      <script>\n",
              "        const buttonEl =\n",
              "          document.querySelector('#df-83c4b652-d4a9-4610-b793-c5b6f875990a button.colab-df-convert');\n",
              "        buttonEl.style.display =\n",
              "          google.colab.kernel.accessAllowed ? 'block' : 'none';\n",
              "\n",
              "        async function convertToInteractive(key) {\n",
              "          const element = document.querySelector('#df-83c4b652-d4a9-4610-b793-c5b6f875990a');\n",
              "          const dataTable =\n",
              "            await google.colab.kernel.invokeFunction('convertToInteractive',\n",
              "                                                     [key], {});\n",
              "          if (!dataTable) return;\n",
              "\n",
              "          const docLinkHtml = 'Like what you see? Visit the ' +\n",
              "            '<a target=\"_blank\" href=https://colab.research.google.com/notebooks/data_table.ipynb>data table notebook</a>'\n",
              "            + ' to learn more about interactive tables.';\n",
              "          element.innerHTML = '';\n",
              "          dataTable['output_type'] = 'display_data';\n",
              "          await google.colab.output.renderOutput(dataTable, element);\n",
              "          const docLink = document.createElement('div');\n",
              "          docLink.innerHTML = docLinkHtml;\n",
              "          element.appendChild(docLink);\n",
              "        }\n",
              "      </script>\n",
              "    </div>\n",
              "  </div>\n",
              "  "
            ]
          },
          "metadata": {},
          "execution_count": 21
        }
      ]
    },
    {
      "cell_type": "markdown",
      "source": [
        "La tabla esperados contiene los valores teóricos esperados si no hubiese ningun tipo de relación. Estos valores no son posibles, ya que son decimales, solo es una aproximación teórica."
      ],
      "metadata": {
        "id": "qXTKRCAgo8Pn"
      }
    },
    {
      "cell_type": "markdown",
      "source": [
        "#### Paso 5 crear tablas de valores esperados y observados.\n",
        "Creamos tabla de valores esperados relativos y observados relativos, para que sea más facil de comparar. Esto lo conseguimos con funciones round sobre cada una de las tablas."
      ],
      "metadata": {
        "id": "RzpvtWkwpYXW"
      }
    },
    {
      "cell_type": "code",
      "source": [
        "esperados_rel = round(esperados.apply(lambda r : r/len(df)*100 , axis=1),2)"
      ],
      "metadata": {
        "id": "oQLvsyBtp1zi"
      },
      "execution_count": 22,
      "outputs": []
    },
    {
      "cell_type": "code",
      "source": [
        "observados_rel = round(observados.apply(lambda r : r/len(df)*100 , axis=1),2)"
      ],
      "metadata": {
        "id": "28Mby6Z-q8L5"
      },
      "execution_count": 23,
      "outputs": []
    },
    {
      "cell_type": "code",
      "source": [
        "esperados_rel"
      ],
      "metadata": {
        "colab": {
          "base_uri": "https://localhost:8080/",
          "height": 143
        },
        "id": "jcwPC-k0rDrH",
        "outputId": "3157204a-2a67-4932-bd35-6d416f118504"
      },
      "execution_count": 24,
      "outputs": [
        {
          "output_type": "execute_result",
          "data": {
            "text/plain": [
              "       0      1     2       3\n",
              "0  68.29   9.70  6.93   84.92\n",
              "1  12.13   1.72  1.23   15.08\n",
              "2  80.42  11.42  8.16  100.00"
            ],
            "text/html": [
              "\n",
              "  <div id=\"df-01e1889d-4b44-4e29-8db2-d05da8a38969\">\n",
              "    <div class=\"colab-df-container\">\n",
              "      <div>\n",
              "<style scoped>\n",
              "    .dataframe tbody tr th:only-of-type {\n",
              "        vertical-align: middle;\n",
              "    }\n",
              "\n",
              "    .dataframe tbody tr th {\n",
              "        vertical-align: top;\n",
              "    }\n",
              "\n",
              "    .dataframe thead th {\n",
              "        text-align: right;\n",
              "    }\n",
              "</style>\n",
              "<table border=\"1\" class=\"dataframe\">\n",
              "  <thead>\n",
              "    <tr style=\"text-align: right;\">\n",
              "      <th></th>\n",
              "      <th>0</th>\n",
              "      <th>1</th>\n",
              "      <th>2</th>\n",
              "      <th>3</th>\n",
              "    </tr>\n",
              "  </thead>\n",
              "  <tbody>\n",
              "    <tr>\n",
              "      <th>0</th>\n",
              "      <td>68.29</td>\n",
              "      <td>9.70</td>\n",
              "      <td>6.93</td>\n",
              "      <td>84.92</td>\n",
              "    </tr>\n",
              "    <tr>\n",
              "      <th>1</th>\n",
              "      <td>12.13</td>\n",
              "      <td>1.72</td>\n",
              "      <td>1.23</td>\n",
              "      <td>15.08</td>\n",
              "    </tr>\n",
              "    <tr>\n",
              "      <th>2</th>\n",
              "      <td>80.42</td>\n",
              "      <td>11.42</td>\n",
              "      <td>8.16</td>\n",
              "      <td>100.00</td>\n",
              "    </tr>\n",
              "  </tbody>\n",
              "</table>\n",
              "</div>\n",
              "      <button class=\"colab-df-convert\" onclick=\"convertToInteractive('df-01e1889d-4b44-4e29-8db2-d05da8a38969')\"\n",
              "              title=\"Convert this dataframe to an interactive table.\"\n",
              "              style=\"display:none;\">\n",
              "        \n",
              "  <svg xmlns=\"http://www.w3.org/2000/svg\" height=\"24px\"viewBox=\"0 0 24 24\"\n",
              "       width=\"24px\">\n",
              "    <path d=\"M0 0h24v24H0V0z\" fill=\"none\"/>\n",
              "    <path d=\"M18.56 5.44l.94 2.06.94-2.06 2.06-.94-2.06-.94-.94-2.06-.94 2.06-2.06.94zm-11 1L8.5 8.5l.94-2.06 2.06-.94-2.06-.94L8.5 2.5l-.94 2.06-2.06.94zm10 10l.94 2.06.94-2.06 2.06-.94-2.06-.94-.94-2.06-.94 2.06-2.06.94z\"/><path d=\"M17.41 7.96l-1.37-1.37c-.4-.4-.92-.59-1.43-.59-.52 0-1.04.2-1.43.59L10.3 9.45l-7.72 7.72c-.78.78-.78 2.05 0 2.83L4 21.41c.39.39.9.59 1.41.59.51 0 1.02-.2 1.41-.59l7.78-7.78 2.81-2.81c.8-.78.8-2.07 0-2.86zM5.41 20L4 18.59l7.72-7.72 1.47 1.35L5.41 20z\"/>\n",
              "  </svg>\n",
              "      </button>\n",
              "      \n",
              "  <style>\n",
              "    .colab-df-container {\n",
              "      display:flex;\n",
              "      flex-wrap:wrap;\n",
              "      gap: 12px;\n",
              "    }\n",
              "\n",
              "    .colab-df-convert {\n",
              "      background-color: #E8F0FE;\n",
              "      border: none;\n",
              "      border-radius: 50%;\n",
              "      cursor: pointer;\n",
              "      display: none;\n",
              "      fill: #1967D2;\n",
              "      height: 32px;\n",
              "      padding: 0 0 0 0;\n",
              "      width: 32px;\n",
              "    }\n",
              "\n",
              "    .colab-df-convert:hover {\n",
              "      background-color: #E2EBFA;\n",
              "      box-shadow: 0px 1px 2px rgba(60, 64, 67, 0.3), 0px 1px 3px 1px rgba(60, 64, 67, 0.15);\n",
              "      fill: #174EA6;\n",
              "    }\n",
              "\n",
              "    [theme=dark] .colab-df-convert {\n",
              "      background-color: #3B4455;\n",
              "      fill: #D2E3FC;\n",
              "    }\n",
              "\n",
              "    [theme=dark] .colab-df-convert:hover {\n",
              "      background-color: #434B5C;\n",
              "      box-shadow: 0px 1px 3px 1px rgba(0, 0, 0, 0.15);\n",
              "      filter: drop-shadow(0px 1px 2px rgba(0, 0, 0, 0.3));\n",
              "      fill: #FFFFFF;\n",
              "    }\n",
              "  </style>\n",
              "\n",
              "      <script>\n",
              "        const buttonEl =\n",
              "          document.querySelector('#df-01e1889d-4b44-4e29-8db2-d05da8a38969 button.colab-df-convert');\n",
              "        buttonEl.style.display =\n",
              "          google.colab.kernel.accessAllowed ? 'block' : 'none';\n",
              "\n",
              "        async function convertToInteractive(key) {\n",
              "          const element = document.querySelector('#df-01e1889d-4b44-4e29-8db2-d05da8a38969');\n",
              "          const dataTable =\n",
              "            await google.colab.kernel.invokeFunction('convertToInteractive',\n",
              "                                                     [key], {});\n",
              "          if (!dataTable) return;\n",
              "\n",
              "          const docLinkHtml = 'Like what you see? Visit the ' +\n",
              "            '<a target=\"_blank\" href=https://colab.research.google.com/notebooks/data_table.ipynb>data table notebook</a>'\n",
              "            + ' to learn more about interactive tables.';\n",
              "          element.innerHTML = '';\n",
              "          dataTable['output_type'] = 'display_data';\n",
              "          await google.colab.output.renderOutput(dataTable, element);\n",
              "          const docLink = document.createElement('div');\n",
              "          docLink.innerHTML = docLinkHtml;\n",
              "          element.appendChild(docLink);\n",
              "        }\n",
              "      </script>\n",
              "    </div>\n",
              "  </div>\n",
              "  "
            ]
          },
          "metadata": {},
          "execution_count": 24
        }
      ]
    },
    {
      "cell_type": "code",
      "source": [
        "observados_rel"
      ],
      "metadata": {
        "colab": {
          "base_uri": "https://localhost:8080/",
          "height": 175
        },
        "id": "jsUZ8TwlrFnH",
        "outputId": "8c4b5c94-d66e-45a7-b283-1c25e2267169"
      },
      "execution_count": 25,
      "outputs": [
        {
          "output_type": "execute_result",
          "data": {
            "text/plain": [
              "Origin      ATL    HOU   IND     All\n",
              "BigDelay                            \n",
              "False     68.49   9.61  6.82   84.92\n",
              "True      11.93   1.81  1.34   15.08\n",
              "All       80.42  11.42  8.16  100.00"
            ],
            "text/html": [
              "\n",
              "  <div id=\"df-94f26647-8caf-4105-8346-5af53b197a9f\">\n",
              "    <div class=\"colab-df-container\">\n",
              "      <div>\n",
              "<style scoped>\n",
              "    .dataframe tbody tr th:only-of-type {\n",
              "        vertical-align: middle;\n",
              "    }\n",
              "\n",
              "    .dataframe tbody tr th {\n",
              "        vertical-align: top;\n",
              "    }\n",
              "\n",
              "    .dataframe thead th {\n",
              "        text-align: right;\n",
              "    }\n",
              "</style>\n",
              "<table border=\"1\" class=\"dataframe\">\n",
              "  <thead>\n",
              "    <tr style=\"text-align: right;\">\n",
              "      <th>Origin</th>\n",
              "      <th>ATL</th>\n",
              "      <th>HOU</th>\n",
              "      <th>IND</th>\n",
              "      <th>All</th>\n",
              "    </tr>\n",
              "    <tr>\n",
              "      <th>BigDelay</th>\n",
              "      <th></th>\n",
              "      <th></th>\n",
              "      <th></th>\n",
              "      <th></th>\n",
              "    </tr>\n",
              "  </thead>\n",
              "  <tbody>\n",
              "    <tr>\n",
              "      <th>False</th>\n",
              "      <td>68.49</td>\n",
              "      <td>9.61</td>\n",
              "      <td>6.82</td>\n",
              "      <td>84.92</td>\n",
              "    </tr>\n",
              "    <tr>\n",
              "      <th>True</th>\n",
              "      <td>11.93</td>\n",
              "      <td>1.81</td>\n",
              "      <td>1.34</td>\n",
              "      <td>15.08</td>\n",
              "    </tr>\n",
              "    <tr>\n",
              "      <th>All</th>\n",
              "      <td>80.42</td>\n",
              "      <td>11.42</td>\n",
              "      <td>8.16</td>\n",
              "      <td>100.00</td>\n",
              "    </tr>\n",
              "  </tbody>\n",
              "</table>\n",
              "</div>\n",
              "      <button class=\"colab-df-convert\" onclick=\"convertToInteractive('df-94f26647-8caf-4105-8346-5af53b197a9f')\"\n",
              "              title=\"Convert this dataframe to an interactive table.\"\n",
              "              style=\"display:none;\">\n",
              "        \n",
              "  <svg xmlns=\"http://www.w3.org/2000/svg\" height=\"24px\"viewBox=\"0 0 24 24\"\n",
              "       width=\"24px\">\n",
              "    <path d=\"M0 0h24v24H0V0z\" fill=\"none\"/>\n",
              "    <path d=\"M18.56 5.44l.94 2.06.94-2.06 2.06-.94-2.06-.94-.94-2.06-.94 2.06-2.06.94zm-11 1L8.5 8.5l.94-2.06 2.06-.94-2.06-.94L8.5 2.5l-.94 2.06-2.06.94zm10 10l.94 2.06.94-2.06 2.06-.94-2.06-.94-.94-2.06-.94 2.06-2.06.94z\"/><path d=\"M17.41 7.96l-1.37-1.37c-.4-.4-.92-.59-1.43-.59-.52 0-1.04.2-1.43.59L10.3 9.45l-7.72 7.72c-.78.78-.78 2.05 0 2.83L4 21.41c.39.39.9.59 1.41.59.51 0 1.02-.2 1.41-.59l7.78-7.78 2.81-2.81c.8-.78.8-2.07 0-2.86zM5.41 20L4 18.59l7.72-7.72 1.47 1.35L5.41 20z\"/>\n",
              "  </svg>\n",
              "      </button>\n",
              "      \n",
              "  <style>\n",
              "    .colab-df-container {\n",
              "      display:flex;\n",
              "      flex-wrap:wrap;\n",
              "      gap: 12px;\n",
              "    }\n",
              "\n",
              "    .colab-df-convert {\n",
              "      background-color: #E8F0FE;\n",
              "      border: none;\n",
              "      border-radius: 50%;\n",
              "      cursor: pointer;\n",
              "      display: none;\n",
              "      fill: #1967D2;\n",
              "      height: 32px;\n",
              "      padding: 0 0 0 0;\n",
              "      width: 32px;\n",
              "    }\n",
              "\n",
              "    .colab-df-convert:hover {\n",
              "      background-color: #E2EBFA;\n",
              "      box-shadow: 0px 1px 2px rgba(60, 64, 67, 0.3), 0px 1px 3px 1px rgba(60, 64, 67, 0.15);\n",
              "      fill: #174EA6;\n",
              "    }\n",
              "\n",
              "    [theme=dark] .colab-df-convert {\n",
              "      background-color: #3B4455;\n",
              "      fill: #D2E3FC;\n",
              "    }\n",
              "\n",
              "    [theme=dark] .colab-df-convert:hover {\n",
              "      background-color: #434B5C;\n",
              "      box-shadow: 0px 1px 3px 1px rgba(0, 0, 0, 0.15);\n",
              "      filter: drop-shadow(0px 1px 2px rgba(0, 0, 0, 0.3));\n",
              "      fill: #FFFFFF;\n",
              "    }\n",
              "  </style>\n",
              "\n",
              "      <script>\n",
              "        const buttonEl =\n",
              "          document.querySelector('#df-94f26647-8caf-4105-8346-5af53b197a9f button.colab-df-convert');\n",
              "        buttonEl.style.display =\n",
              "          google.colab.kernel.accessAllowed ? 'block' : 'none';\n",
              "\n",
              "        async function convertToInteractive(key) {\n",
              "          const element = document.querySelector('#df-94f26647-8caf-4105-8346-5af53b197a9f');\n",
              "          const dataTable =\n",
              "            await google.colab.kernel.invokeFunction('convertToInteractive',\n",
              "                                                     [key], {});\n",
              "          if (!dataTable) return;\n",
              "\n",
              "          const docLinkHtml = 'Like what you see? Visit the ' +\n",
              "            '<a target=\"_blank\" href=https://colab.research.google.com/notebooks/data_table.ipynb>data table notebook</a>'\n",
              "            + ' to learn more about interactive tables.';\n",
              "          element.innerHTML = '';\n",
              "          dataTable['output_type'] = 'display_data';\n",
              "          await google.colab.output.renderOutput(dataTable, element);\n",
              "          const docLink = document.createElement('div');\n",
              "          docLink.innerHTML = docLinkHtml;\n",
              "          element.appendChild(docLink);\n",
              "        }\n",
              "      </script>\n",
              "    </div>\n",
              "  </div>\n",
              "  "
            ]
          },
          "metadata": {},
          "execution_count": 25
        }
      ]
    },
    {
      "cell_type": "markdown",
      "source": [
        "Como se puede observar los margenes (Columna \"All\") se han mantenido (pero en otra escala). Esto tiene que ser así, si no significa que algo está mal, ya que lo que queriamos era modificar la cantidad de True´s y False´s."
      ],
      "metadata": {
        "id": "BywYtEQZrsH0"
      }
    },
    {
      "cell_type": "markdown",
      "source": [
        "#### Paso 6 Realizar test\n",
        "Una cosa a tener en cuenta es el pvalor, este indicador es un concepto complejo, pero para explicarlo de manera muy resumida se puede decir que es la probabilidad de que las relaciones sean mucho más extremas de la que hemos visto en nuestros datos, si comparamos con la situación en la que no hay ninguna relación.\n",
        "\n",
        "##### Resumen test de hipotesis\n",
        "* Si el p-valor < 0.05, hay diferencias significativas. Hay relación entre variables\n",
        "* Si el p-valor > 0.05, no hay diferencias significativas. No hay relación entre variables"
      ],
      "metadata": {
        "id": "AzGS4Dj0sbod"
      }
    },
    {
      "cell_type": "code",
      "source": [
        "test[1]"
      ],
      "metadata": {
        "colab": {
          "base_uri": "https://localhost:8080/"
        },
        "id": "lZq3WeFzsPvz",
        "outputId": "3c4d368d-fa0a-42b9-a779-2d1d4bdad944"
      },
      "execution_count": 26,
      "outputs": [
        {
          "output_type": "execute_result",
          "data": {
            "text/plain": [
              "0.9147731515151348"
            ]
          },
          "metadata": {},
          "execution_count": 26
        }
      ]
    },
    {
      "cell_type": "markdown",
      "source": [
        "Hemos obtenido un 0.914 aprox(>0.05). por lo cual, no podmeos afirmar que haya relación entre variables."
      ],
      "metadata": {
        "id": "Bpn9aWHIt-3R"
      }
    }
  ]
}